{
 "cells": [
  {
   "cell_type": "markdown",
   "id": "6c5e6854-6890-4440-927d-1c5666fe7858",
   "metadata": {
    "tags": []
   },
   "source": [
    "# CMSE 202 Midterm S23 (Sect. 002)\n",
    "\n",
    "The goal of this midterm is to give you the opportunity to test out some of the skills that you've developed thus far this semester. In particular, you'll reflect on what you know about writing code using Python and showcase some of your new programming skills.\n",
    "\n",
    "**Important note about using online resources:** This exam is \"open internet\". That means that you can look up documentation, google how to accomplish certain Python tasks, etc. Being able to effectively use the internet for computational modeling and data science is a very important skill, so we want to make sure you have the opportunity to exercise that skill. **However, the use of any person-to-person communication software is absolutely not acceptable.**\n",
    "\n",
    "**Do your own work.** This midterm is designed to give you the opportunity to show the instructor what you can do and you should hold yourself accountable for maintaining a high level of academic integrity. Any violation of academic integrity could result in you receiving a zero on the midterm.\n",
    "\n",
    "You are encouraged to look through the entire exam before you get started so that you can appropriately budget your time and understand the broad goals of the exam.\n",
    "\n",
    "If you have any questions during the exam, you may ask the instructor, the TA, or the LA privately; simply raise your hand and one of us will come over to you. \n",
    "\n",
    "### Content Knowledge Tested\n",
    "- Using Github to save and track progress on your work\n",
    "- Using Pandas to read, manipulate, and access data files\n",
    "- Using documentation and examples to effectively utilitze unfamiliar Python packages \n",
    "- Writing new classes to effectively store complex datasets"
   ]
  },
  {
   "cell_type": "markdown",
   "id": "dcc1f32a-2fcc-4031-94ff-096062983643",
   "metadata": {
    "tags": []
   },
   "source": [
    "## Part 0: Add to your Git repository to track your progress on your exam (10 points total)\n",
    "\n",
    "Before you get to far along in the exam, you're going to add it to the `cmse202-S23-turnin` repository you created in class so that you can track your progress on the exam and preserve the final version that you turn in. In order to do this you need to\n",
    "\n",
    "### &#9989; Part 0.1 (5 points):\n",
    "\n",
    "1. Navigate to your `cmse202-S23-turnin` repository and create a new directory called `midterm`.\n",
    "2. Move this notebook into that **new directory** in your repository, then **add it and commit it to your repository**.\n",
    "1. Finally, to test that everything is working, \"git push\" the file so that it ends up in your GitHub repository.\n",
    "\n",
    "**Important**: Double check you've added your Professor and your TA as collaborators to your \"turnin\" respository (you should have done this in the previous homework assignment).\n",
    "\n",
    "**Also important**: Make sure that the version of this notebook that you are working on is the same one that you just added to your repository! If you are working on a different copy of the noteobok, **none of your changes will be tracked**!\n",
    "\n",
    "The file should now show up on your GitHub account in the `cmse202-S23-turnin` repository inside the `midterm` directory you just created.  Periodically, **you'll be asked to commit your changes to the repository and push them to the remote GitHub location**. It can be good to get into a habit of committing your changes any time you make a significant modification.\n",
    "\n",
    "### Part 0.2 (2 points):\n",
    "&#9989; Before you move on, **put the command(s) that your instructor should run to clone your repository in the markdown cell below.**"
   ]
  },
  {
   "cell_type": "code",
   "execution_count": 1,
   "id": "d5411504-4c33-446f-95f6-7bef07e94fdd",
   "metadata": {},
   "outputs": [
    {
     "name": "stdout",
     "output_type": "stream",
     "text": [
      "fatal: destination path 'CMSE202-s23-turnin' already exists and is not an empty directory.\r\n"
     ]
    }
   ],
   "source": [
    "#Write your code here\n",
    "!git clone \"https://github.com/KollinBartz/CMSE202-s23-turnin\""
   ]
  },
  {
   "cell_type": "markdown",
   "id": "4983c96b-98f0-415d-8a38-39c1623dbe8a",
   "metadata": {},
   "source": [
    "## Part 1: Getting Data with Curl ( points)\n",
    "\n",
    "For this exam, you will be working with a dataset that contains **spectra.** Spectra are what you get when you separate light–like in a prism–and measure the flux (fancy word for brightness) of the different parts of the light (E.g., blue has a flux of 400, red has a flux of 600, etc.). More specifically, we measure the *wavelength* of the light (shorter wavelengths = bluer, longer wavelengths=redder). The data we’ll be working with came from a space telescope looking at different astronomical sources. \n",
    "\n",
    "For this exam, you only need to know that wavelength and flux are measured values used in astronomy, physics, chemistry, and biology. \n",
    "\n",
    "\n",
    "First, let’s get our data files. \n",
    "\n",
    "&#9989; **Download the files using `curl` and the following links. Put the commands you used to download the files in the cell below.**\n",
    "\n",
    "- `https://raw.githubusercontent.com/msu-cmse-courses/cmse202-S23-data/main/midterm/metadata.csv`\n",
    "- `https://raw.githubusercontent.com/msu-cmse-courses/cmse202-S23-data/main/midterm/flux_values.csv`\n",
    "- `https://raw.githubusercontent.com/msu-cmse-courses/cmse202-S23-data/main/midterm/wavlength_values.csv`\n"
   ]
  },
  {
   "cell_type": "code",
   "execution_count": 2,
   "id": "8a5c8eac-5deb-477c-803a-527b4cc9c2c0",
   "metadata": {},
   "outputs": [
    {
     "name": "stdout",
     "output_type": "stream",
     "text": [
      "  % Total    % Received % Xferd  Average Speed   Time    Time     Time  Current\n",
      "                                 Dload  Upload   Total   Spent    Left  Speed\n",
      "100 18761  100 18761    0     0   3655      0  0:00:05  0:00:05 --:--:--  4055\n"
     ]
    }
   ],
   "source": [
    "!curl -O https://raw.githubusercontent.com/msu-cmse-courses/cmse202-S23-data/main/midterm/metadata.csv"
   ]
  },
  {
   "cell_type": "code",
   "execution_count": 3,
   "id": "33f59242",
   "metadata": {},
   "outputs": [
    {
     "name": "stdout",
     "output_type": "stream",
     "text": [
      "  % Total    % Received % Xferd  Average Speed   Time    Time     Time  Current\n",
      "                                 Dload  Upload   Total   Spent    Left  Speed\n",
      "100  468k  100  468k    0     0  95126      0  0:00:05  0:00:05 --:--:-- 97050\n"
     ]
    }
   ],
   "source": [
    "!curl -O https://raw.githubusercontent.com/msu-cmse-courses/cmse202-S23-data/main/midterm/flux_values.csv"
   ]
  },
  {
   "cell_type": "code",
   "execution_count": 4,
   "id": "25541446",
   "metadata": {},
   "outputs": [
    {
     "name": "stdout",
     "output_type": "stream",
     "text": [
      "  % Total    % Received % Xferd  Average Speed   Time    Time     Time  Current\n",
      "                                 Dload  Upload   Total   Spent    Left  Speed\n",
      "100  902k  100  902k    0     0   178k      0  0:00:05  0:00:05 --:--:--  221k\n"
     ]
    }
   ],
   "source": [
    "!curl -O https://raw.githubusercontent.com/msu-cmse-courses/cmse202-S23-data/main/midterm/wavlength_values.csv"
   ]
  },
  {
   "cell_type": "markdown",
   "id": "81c8c313-2d23-4eff-a713-7abf289d3773",
   "metadata": {
    "tags": []
   },
   "source": [
    "## Part 2: Reading the Data (5 points)\n",
    "\n",
    "&#9989; **Read in the data files using Pandas (put your code in the cell below).** One of them has metadata about each source, one of them has flux values for each source, and the last one has the wavelength values for each source. "
   ]
  },
  {
   "cell_type": "code",
   "execution_count": 5,
   "id": "a3a77d21-f2ed-40b9-aa23-77ca5faefb80",
   "metadata": {},
   "outputs": [],
   "source": [
    "import pandas as pd\n",
    "meta = pd.read_csv(\"metadata.csv\")\n",
    "flux = pd.read_csv(\"flux_values.csv\")\n",
    "wave = pd.read_csv(\"wavlength_values.csv\")"
   ]
  },
  {
   "cell_type": "markdown",
   "id": "cb928c2f-720c-4185-ab3e-103ad91dab9d",
   "metadata": {
    "tags": []
   },
   "source": [
    "## Part 3: Using a \"New\" Package (15 points)\n",
    "For this problem, we want you to use a new package that you aren’t as used to. Specifically, you’ll be using the [Seaborn plotting package](https://seaborn.pydata.org/). \n",
    "\n",
    "&#9989; RA and DEC are two measurements that are equivalent to latitude and longitude on earth (I.e., they give the position on the sky). **Use the Seaborn `relplot` and your metadata dataframe to make a scatter plot of the following:** \n",
    "\n",
    "- RA on the x-axis \n",
    "- DEC on the y-axis \n",
    "- The size of your data points on the plot should correspond to the scale factor (a measure of total brightness of the source.) \n",
    "\n",
    "**Hint:** You might want to take a look at the Seaborn example gallery. "
   ]
  },
  {
   "cell_type": "code",
   "execution_count": 6,
   "id": "9d5ee909-a4f0-4678-89be-07e412a305b9",
   "metadata": {},
   "outputs": [
    {
     "data": {
      "image/png": "[encoded data removed]",
      "text/plain": [
       "<Figure size 432x288 with 1 Axes>"
      ]
     },
     "metadata": {
      "needs_background": "light"
     },
     "output_type": "display_data"
    }
   ],
   "source": [
    "import seaborn as sns\n",
    "ra = meta[\"RA\"]\n",
    "dec = meta[\"DEC\"]\n",
    "scale1=meta[\"Scale Factor\"]*10000000000000000\n",
    "sns.scatterplot(x=ra, y=dec, size = scale1, sizes = (.995,338));"
   ]
  },
  {
   "cell_type": "markdown",
   "id": "968006d1-c4d2-4d09-ba0f-72e9fba50de7",
   "metadata": {
    "jp-MarkdownHeadingCollapsed": true,
    "tags": []
   },
   "source": [
    "---\n",
    "### &#128721; STOP (1 point)\n",
    "**Pause to commit your changes to your Git repository!**\n",
    "\n",
    "Take a moment to save your notebook, commit and push the changes to your Git repository.\n",
    "\n",
    "---"
   ]
  },
  {
   "cell_type": "markdown",
   "id": "a8efb523-e4b5-44bc-9687-1568577fc1f2",
   "metadata": {
    "tags": []
   },
   "source": [
    "## Part 4: Accessing Specific Data Values with Pandas (25 points)\n",
    "\n",
    "For this part of the exam, we’ll walk through how to use Pandas to access specific pieces of information in our dataframes.\n",
    "\n",
    "### 4.1 Getting the Metadata (5 points)\n",
    "\n",
    "&#9989; **Use Pandas to access the value in the the 3rd row and 2nd column in the metadata dataframe (I.e., the RA for 12073-6233).** *Hint: What is the easiest way to access data using index values?*"
   ]
  },
  {
   "cell_type": "code",
   "execution_count": 7,
   "id": "d5baf706-738d-4b61-97a8-f6d827b5bfd3",
   "metadata": {},
   "outputs": [
    {
     "name": "stdout",
     "output_type": "stream",
     "text": [
      "             ID      RA     DEC  Scale Factor\n",
      "0    12043-6225  12.073 -62.428  1.250000e-16\n",
      "1    12063-6259  12.106 -62.987  2.970000e-16\n",
      "2    12073-6233  12.123 -62.554  3.130000e-15\n",
      "3    12148-6741  12.247 -67.683  1.730000e-15\n",
      "4    12216-6218  12.360 -62.303  2.180000e-16\n",
      "..          ...     ...     ...           ...\n",
      "526  23491+6243  23.819  62.732  2.220000e-16\n",
      "527  23496+6131  23.827  61.526  1.250000e-15\n",
      "528  23528+4821  23.881  48.360  5.740000e-16\n",
      "529  23541+7031  23.902  70.526  4.120000e-16\n",
      "530  23564-5651  23.941 -56.854  4.840000e-16\n",
      "\n",
      "[531 rows x 4 columns]\n",
      "12.123\n"
     ]
    }
   ],
   "source": [
    "print(meta)\n",
    "print(meta.iloc[2][1])\n",
    "threev2= meta.iloc[2][1]"
   ]
  },
  {
   "cell_type": "markdown",
   "id": "8f9d3b23-a3fb-459b-97d4-facdb37cd7f7",
   "metadata": {},
   "source": [
    "### 4.2 Getting Flux Data (10 Points)\n",
    "\n",
    "&#9989; **Use Pandas to access the entire second column of data in the flux dataframe (I.e., all flux values for 12063-6259).** Try to use the same tools as the previous problem."
   ]
  },
  {
   "cell_type": "code",
   "execution_count": 8,
   "id": "c3da70e4-3464-4453-a8b3-2780a32a2336",
   "metadata": {},
   "outputs": [
    {
     "name": "stdout",
     "output_type": "stream",
     "text": [
      "    12043-6225  12063-6259  12073-6233   12148-6741   12216-6218   12226+0102  \\\n",
      "0    4119.1675   7660.9990   3196.4287  26028.45100  15835.38500  15979.91200   \n",
      "1    4897.2990   7906.7840   3013.9722  23706.81400  15097.69700  15094.21800   \n",
      "2    4163.9690   7821.8984   3003.1490  21255.06600  14774.41800  15370.21200   \n",
      "3    5000.7207   7240.5156   3099.5684  19268.29700  15353.48500  15239.36900   \n",
      "4    5769.1810   6555.7860   3130.7747  17711.97000  13989.90700  15328.07800   \n",
      "..         ...         ...         ...          ...          ...          ...   \n",
      "88   1767.6233   7084.0360   6564.2630    448.98490    693.25110    473.87660   \n",
      "89   1146.9471   6971.7830   6309.6396    459.61176    890.75964    377.22030   \n",
      "90   1392.4745   7015.5747   5954.3880    409.13416    473.78302    368.36404   \n",
      "91   1278.9945   6962.2200   5337.8887    366.62670    658.46140    548.61140   \n",
      "92   1440.4820   6263.4400   4638.5244    332.08942    725.74945    327.02430   \n",
      "\n",
      "     12230-5943  12233-5920   12247-5842  12274-7647  ...   23309+2213  \\\n",
      "0   13409.69200  4723.84230  24852.15600  7437.99200  ...  25954.22500   \n",
      "1   12985.14700  5399.35500  23494.65800  7775.49300  ...  24277.15000   \n",
      "2   12330.41200  5080.29300  21760.83000  8206.88100  ...  21686.77500   \n",
      "3   11932.74500  4978.89100  20237.52300  9054.72200  ...  20223.47300   \n",
      "4   11440.46900  4896.74850  18943.15200  9833.83900  ...  18529.77100   \n",
      "..          ...         ...          ...         ...  ...          ...   \n",
      "88    739.24524  1184.99270    440.24020  1112.40630  ...    549.65270   \n",
      "89    620.88495  1124.36790    264.00620  1024.37740  ...    449.71590   \n",
      "90    680.48940   983.02160    437.77075   994.52313  ...    569.08490   \n",
      "91    723.15520   919.66736    361.53516  1020.19920  ...    471.92410   \n",
      "92    613.29700   990.40204    164.24654   887.24164  ...    477.47614   \n",
      "\n",
      "     23320+4316   23365+5159  23416+6130   23439+5412  23491+6243  23496+6131  \\\n",
      "0   13512.42800  11504.02050   5428.5894  15511.47700  14111.7340   8702.8700   \n",
      "1   13566.23500  10776.77200   5152.7850  15633.45800  14462.1270   8777.9060   \n",
      "2   14101.02300  10377.47100   5084.3320  15354.94700  15572.4560   9042.6650   \n",
      "3   13942.72900  10156.50100   5017.1060  13779.85800  15107.5140   9054.9300   \n",
      "4   13366.01100   9721.12200   5255.4404  13604.02700  14094.1240   9358.4030   \n",
      "..          ...          ...         ...          ...         ...         ...   \n",
      "88    921.79126    971.99790   2025.3147    790.83856    687.2263   1236.9054   \n",
      "89    894.86224   1010.25600   1978.9023    440.02040    686.3428   1208.3124   \n",
      "90    886.43270    998.65643   1950.6804    353.10380    934.4911   1203.8910   \n",
      "91    850.96300    872.36680   1858.1993    875.61270    933.5919   1099.1929   \n",
      "92    750.02940    762.29816   1688.1215    748.85230    501.3779   1037.9974   \n",
      "\n",
      "     23528+4821  23541+7031   23564-5651  \n",
      "0   15375.60400  11814.4600  14268.03700  \n",
      "1   14542.23300  12896.9450  12925.04500  \n",
      "2   13849.16300  13033.3150  12433.29800  \n",
      "3   13149.55700  13371.6440  12211.93400  \n",
      "4   12263.95500  12632.2850  12230.37700  \n",
      "..          ...         ...          ...  \n",
      "88    843.16656   1721.3413    757.24786  \n",
      "89    642.11680   1546.4460    695.35840  \n",
      "90    824.46655   1677.9924    702.66327  \n",
      "91    703.36536   1601.7352    681.01196  \n",
      "92    649.15760   1470.1552    670.62964  \n",
      "\n",
      "[93 rows x 531 columns]\n",
      "0     7660.9990\n",
      "1     7906.7840\n",
      "2     7821.8984\n",
      "3     7240.5156\n",
      "4     6555.7860\n",
      "        ...    \n",
      "88    7084.0360\n",
      "89    6971.7830\n",
      "90    7015.5747\n",
      "91    6962.2200\n",
      "92    6263.4400\n",
      "Name: 12063-6259, Length: 93, dtype: float64\n"
     ]
    }
   ],
   "source": [
    "#Write your code here\n",
    "print(flux)\n",
    "print(flux[\"12063-6259\"])\n",
    "twod= flux[\"12063-6259\"]"
   ]
  },
  {
   "cell_type": "markdown",
   "id": "42affb76-e248-4443-8261-1d0e32aebcda",
   "metadata": {},
   "source": [
    "### 4.3 Getting Wavelength Data (10 Points)\n",
    "\n",
    "&#9989; **Use Pandas to access the entire third column of data in the wavelength dataframe (I.e., all wavelength values for 12073-6233).** Try to use the same tools as the previous two parts."
   ]
  },
  {
   "cell_type": "code",
   "execution_count": 9,
   "id": "3a398463-bd78-4f43-998d-39ce1d4b8c25",
   "metadata": {},
   "outputs": [
    {
     "name": "stdout",
     "output_type": "stream",
     "text": [
      "    12043-6225  12063-6259  12073-6233  12148-6741  12216-6218  12226+0102  \\\n",
      "0     7.860251    7.862759    7.864406    7.864011    7.864883    7.861944   \n",
      "1     8.054492    8.052193    8.041659    8.050639    8.040395    8.045418   \n",
      "2     8.226692    8.232277    8.230711    8.227723    8.228763    8.238504   \n",
      "3     8.396819    8.404827    8.400978    8.405921    8.407011    8.403179   \n",
      "4     8.585093    8.569422    8.574238    8.571307    8.565902    8.579400   \n",
      "..         ...         ...         ...         ...         ...         ...   \n",
      "88   22.180003   22.184494   22.185389   22.181462   22.177691   22.172304   \n",
      "89   22.361373   22.368408   22.358518   22.367017   22.352578   22.373684   \n",
      "90   22.551057   22.551896   22.558641   22.556461   22.548741   22.552584   \n",
      "91   22.734353   22.738269   22.741007   22.740697   22.741439   22.725805   \n",
      "92   22.923752   22.926035   22.916100   22.919023   22.916774   22.917078   \n",
      "\n",
      "    12230-5943  12233-5920  12247-5842  12274-7647  ...  23309+2213  \\\n",
      "0     7.870065    7.859010    7.863359    7.864565  ...    7.864798   \n",
      "1     8.050928    8.047220    8.053614    8.051108  ...    8.047529   \n",
      "2     8.229733    8.230733    8.230070    8.233486  ...    8.241394   \n",
      "3     8.402961    8.409550    8.405349    8.398662  ...    8.414162   \n",
      "4     8.574756    8.578492    8.585618    8.578084  ...    8.582309   \n",
      "..         ...         ...         ...         ...  ...         ...   \n",
      "88   22.171730   22.174125   22.165366   22.166268  ...   22.174577   \n",
      "89   22.348355   22.364276   22.371429   22.361821  ...   22.360726   \n",
      "90   22.550941   22.544012   22.554707   22.555612  ...   22.546808   \n",
      "91   22.733217   22.738103   22.728719   22.740318  ...   22.738795   \n",
      "92   22.926738   22.936321   22.928758   22.921626  ...   22.935797   \n",
      "\n",
      "    23320+4316  23365+5159  23416+6130  23439+5412  23491+6243  23496+6131  \\\n",
      "0     7.861496    7.856951    7.861483    7.862815    7.861386    7.861062   \n",
      "1     8.045410    8.045976    8.058945    8.050414    8.045272    8.052644   \n",
      "2     8.231385    8.221734    8.230750    8.230825    8.228073    8.229939   \n",
      "3     8.406240    8.405529    8.401249    8.399691    8.396961    8.407896   \n",
      "4     8.580029    8.570278    8.559317    8.582286    8.575124    8.581448   \n",
      "..         ...         ...         ...         ...         ...         ...   \n",
      "88   22.180111   22.173661   22.177149   22.178878   22.174507   22.165240   \n",
      "89   22.362492   22.358195   22.367452   22.365275   22.361178   22.364981   \n",
      "90   22.550837   22.558427   22.547961   22.551920   22.549466   22.561956   \n",
      "91   22.740553   22.736354   22.748423   22.734862   22.739534   22.744856   \n",
      "92   22.922921   22.915335   22.924761   22.922716   22.917868   22.925694   \n",
      "\n",
      "    23528+4821  23541+7031  23564-5651  \n",
      "0     7.871683    7.872028    7.858041  \n",
      "1     8.050345    8.054690    8.061917  \n",
      "2     8.230677    8.224249    8.229404  \n",
      "3     8.407431    8.405985    8.399666  \n",
      "4     8.582294    8.565852    8.568000  \n",
      "..         ...         ...         ...  \n",
      "88   22.172386   22.177836   22.173068  \n",
      "89   22.352888   22.362766   22.369081  \n",
      "90   22.554048   22.548523   22.549279  \n",
      "91   22.729730   22.729036   22.743119  \n",
      "92   22.925639   22.919317   22.919825  \n",
      "\n",
      "[93 rows x 531 columns]\n",
      "0      7.864406\n",
      "1      8.041659\n",
      "2      8.230711\n",
      "3      8.400978\n",
      "4      8.574238\n",
      "        ...    \n",
      "88    22.185389\n",
      "89    22.358518\n",
      "90    22.558641\n",
      "91    22.741007\n",
      "92    22.916100\n",
      "Name: 12073-6233, Length: 93, dtype: float64\n"
     ]
    }
   ],
   "source": [
    "print(wave)\n",
    "print(wave[\"12073-6233\"])\n",
    "third= wave[\"12073-6233\"]"
   ]
  },
  {
   "cell_type": "markdown",
   "id": "2c5a612c-c356-4ab1-a62c-fa8daafb80bd",
   "metadata": {},
   "source": [
    "## Part 5: Designing a Class (15 points)\n",
    "\n",
    "The issue with this dataset is that it comes in two parts: the spectra and the metadata for each source. To make life easier, we’re going to combine both the data and the metadata by designing a new class, the `spectrum` class.\n",
    "\n",
    "&#9989; **Write a new class for this spectrum data.** Your class should have the following: \n",
    "- Attributes for each piece of information in the metadata file (I.e., ID, RA, DEC, and Scale Factor)\n",
    "- Wavelengths \n",
    "- Flux \n",
    "- `get`-methods for both wavelength and flux (for the sake of time, you don’t need to write `set`-methods or `get`-methods for any of the other attributes)."
   ]
  },
  {
   "cell_type": "code",
   "execution_count": 10,
   "id": "dfc6d1d7-90f0-4de4-9adf-a81ac137c0b3",
   "metadata": {},
   "outputs": [],
   "source": [
    "class Spectrum():\n",
    "    def __init__(self, ident):\n",
    "        #doing this to make the class more independent\n",
    "        self.meta = pd.read_csv(\"metadata.csv\")\n",
    "        self.flux = pd.read_csv(\"flux_values.csv\")\n",
    "        self.wave = pd.read_csv(\"wavlength_values.csv\")\n",
    "        \n",
    "        #rest\n",
    "        self.iD = ident\n",
    "        self.mask = self.meta[\"ID\"]==self.iD\n",
    "        self.row = self.meta[self.mask]\n",
    "        self.rA = self.row[\"RA\"]\n",
    "        self.dEC = self.row[\"DEC\"]\n",
    "        self.scale = self.row[\"Scale Factor\"]\n",
    "        self.waves = self.wave[self.iD]\n",
    "        self.fluxs = self.flux[self.iD]\n",
    "    \n",
    "    def get_wave(self):\n",
    "        return self.waves\n",
    "        \n",
    "    def get_flux(self):\n",
    "        return self.fluxs"
   ]
  },
  {
   "cell_type": "markdown",
   "id": "d6fbf4fe-e3fb-46c6-a192-6d235ee9348f",
   "metadata": {
    "jp-MarkdownHeadingCollapsed": true,
    "tags": []
   },
   "source": [
    "---\n",
    "### &#128721; STOP (1 point)\n",
    "**Pause to commit your changes to your Git repository!**\n",
    "\n",
    "Take a moment to save your notebook, commit  and push the changes to your Git repository.\n",
    "\n",
    "---"
   ]
  },
  {
   "cell_type": "markdown",
   "id": "5c647abf-1b0a-4485-9765-5b448d3b776e",
   "metadata": {},
   "source": [
    "## Part 6: Building Objects (15 points)\n",
    "\n",
    "&#9989; **Construct `spectra` objects for all of the spectral measurements. Append all of the objects to a new list called `spectrum_objects`.** "
   ]
  },
  {
   "cell_type": "code",
   "execution_count": 11,
   "id": "aee8c287-b4b1-4628-a36a-c484212e69eb",
   "metadata": {},
   "outputs": [],
   "source": [
    "#Write your code here\n",
    "identities = meta[\"ID\"]\n",
    "spectrum_objects= []\n",
    "for i in identities:\n",
    "    obj = Spectrum(i)\n",
    "    spectrum_objects.append(obj)"
   ]
  },
  {
   "cell_type": "markdown",
   "id": "a19509b9-fafb-47b0-bcb3-01b390cb17c4",
   "metadata": {},
   "source": [
    "## Part 7: Make a Damn Plot (10 points)\n",
    "\n",
    "&#9989; **Select one of your spectrum objects and use it to make a plot. Your plot should have Wavelength on the x-axis and flux on the y-axis.**\n",
    "\n",
    "*Note: You can complete this problem even if you did not complete Part 6. As long as you have A spectrum object.*"
   ]
  },
  {
   "cell_type": "code",
   "execution_count": 12,
   "id": "e6dcd0a2-874f-4ffe-8997-4117b89b9ab9",
   "metadata": {},
   "outputs": [
    {
     "data": {
      "image/png": "[encoded data removed]",
      "text/plain": [
       "<Figure size 432x288 with 1 Axes>"
      ]
     },
     "metadata": {
      "needs_background": "light"
     },
     "output_type": "display_data"
    }
   ],
   "source": [
    "#Write your code here\n",
    "import matplotlib.pyplot as plt\n",
    "plt.plot(spectrum_objects[0].get_wave(), spectrum_objects[0].get_flux())\n",
    "plt.title(\"Wavelength vs Flux of a spectrum reading\")\n",
    "plt.xlabel(\"Wavelength\")\n",
    "plt.ylabel(\"Flux\")\n",
    "plt.tight_layout();"
   ]
  },
  {
   "cell_type": "markdown",
   "id": "24487f41-d69d-4da0-9964-795c7a7d3e7b",
   "metadata": {
    "tags": []
   },
   "source": [
    "---\n",
    "### &#128721; STOP (1 point)\n",
    "**Pause to commit your changes to your Git repository!**\n",
    "\n",
    "Take a moment to save your notebook, commit  and push the changes to your Git repository.\n",
    "\n",
    "---"
   ]
  },
  {
   "cell_type": "markdown",
   "id": "0cd14847-5fcd-40e6-8799-c2e91ea181f2",
   "metadata": {
    "jp-MarkdownHeadingCollapsed": true,
    "tags": []
   },
   "source": [
    "## You're done! Congrats on finishing your CMSE 202 Midterm!\n",
    "\n",
    "Make sure all of your changes to your repository are committed and pushed to GitHub. Also upload a copy of this notebook to the dropbox on D2L in case something went wrong with your repository or if you couldn't get the repository to work."
   ]
  }
 ],
 "metadata": {
  "kernelspec": {
   "display_name": "Python 3",
   "language": "python",
   "name": "python3"
  },
  "language_info": {
   "codemirror_mode": {
    "name": "ipython",
    "version": 3
   },
   "file_extension": ".py",
   "mimetype": "text/x-python",
   "name": "python",
   "nbconvert_exporter": "python",
   "pygments_lexer": "ipython3",
   "version": "3.8.8"
  }
 },
 "nbformat": 4,
 "nbformat_minor": 5
}
